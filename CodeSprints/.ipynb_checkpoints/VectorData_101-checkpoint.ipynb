{
<<<<<<< HEAD
 "cells": [
  {
   "cell_type": "markdown",
   "metadata": {},
   "source": [
    "This notebook will take you through Lesson 3 in Introductory Earth Data Science: https://www.earthdatascience.org/courses/intro-to-earth-data-science/file-formats/use-spatial-data/use-vector-data/\n",
    "\n",
    "## Import Shapefile Data Into Python Using Geopandas\n",
    "You will use the geopandas library to work with vector data in Python. Geopandas is built on top of the Python Pandas library. It stores spatial data in a tabular, dataframe format.\n"
   ]
  },
  {
   "cell_type": "code",
   "execution_count": 1,
   "metadata": {},
   "outputs": [
    {
     "name": "stderr",
     "output_type": "stream",
     "text": [
      "/Users/tylerlogie/opt/anaconda3/envs/geostats_env/lib/python3.8/site-packages/geopandas/_compat.py:106: UserWarning: The Shapely GEOS version (3.8.0-CAPI-1.13.1 ) is incompatible with the GEOS version PyGEOS was compiled with (3.9.1-CAPI-1.14.2). Conversions between both will be slow.\n",
      "  warnings.warn(\n"
     ]
    }
   ],
   "source": [
    "# Import packages\n",
    "import os\n",
    "import matplotlib.pyplot as plt\n",
    "import geopandas as gpd\n",
    "import earthpy as et"
   ]
  },
  {
   "cell_type": "markdown",
   "metadata": {},
   "source": [
    "To begin, set your working directory to earth-analytics and then download a single shapefile. \n",
    "\n",
    "You will start with working with the Natural Earth country boundary lines layer: https://www.naturalearthdata.com/downloads/\n",
    "\n",
    "Note that below you are using EarthPy to download a dataset from naturalearthdata.com (via Amazon Web Services). \n",
    "\n",
    "EarthPy automatically creates the earth-analytics directory for you when you use it, but by default makes this directory in your home directory. We're doing this here because you guys are on PCs.\n",
    "\n",
    "You set the working directory after you download the data as a precaution to ensure that the earth-analytics directory already exists on your computer. This is not a standard order of operations, as we are not using our SU H drive, but we are demonstrating it here to ensure the notebook runs on all computers!"
   ]
  },
  {
   "cell_type": "code",
   "execution_count": 2,
   "metadata": {},
   "outputs": [
    {
     "name": "stdout",
     "output_type": "stream",
     "text": [
      "Downloading from https://naturalearth.s3.amazonaws.com/50m_cultural/ne_50m_admin_0_boundary_lines_land.zip\n",
      "Extracted output to /Users/tylerlogie/earth-analytics/data/earthpy-downloads/ne_50m_admin_0_boundary_lines_land\n"
     ]
    }
   ],
   "source": [
    "# Download a political boundaries shapefile and set your working directory\n",
    "et.data.get_data(\n",
    "    url='https://naturalearth.s3.amazonaws.com/50m_cultural/ne_50m_admin_0_boundary_lines_land.zip')\n",
    "\n",
    "# Set working directory - earthpy creates earth-analytics for you in your home dir\n",
    "os.chdir(os.path.join(et.io.HOME, 'earth-analytics'))"
   ]
  },
  {
   "cell_type": "markdown",
   "metadata": {},
   "source": [
    "### geopandas\n",
    "Next, you open the data using geopandas. \n",
    "\n",
    "***geopandas*** takes all of the data science magic from the pandas library and makes it compatible with shapfiles.\n",
    "\n",
    "Learn more here: https://geopandas.org/\n",
    "\n",
    "You can view the first 5 rows of the data using .head() in the same way you used .head() for Pandas dataframes.¶"
   ]
  },
  {
   "cell_type": "code",
   "execution_count": 3,
   "metadata": {},
   "outputs": [
    {
     "data": {
      "text/plain": [
       "'/Users/tylerlogie/earth-analytics'"
      ]
     },
     "execution_count": 3,
     "metadata": {},
     "output_type": "execute_result"
    }
   ],
   "source": [
    "os.getcwd()"
   ]
  },
  {
   "cell_type": "markdown",
   "metadata": {},
   "source": [
    "We're going to download a second dataset, called coastlines:"
   ]
  },
  {
   "cell_type": "code",
   "execution_count": 4,
   "metadata": {},
   "outputs": [
    {
     "name": "stdout",
     "output_type": "stream",
     "text": [
      "Downloading from https://naturalearth.s3.amazonaws.com/50m_physical/ne_50m_coastline.zip\n",
      "Extracted output to /Users/tylerlogie/earth-analytics/data/earthpy-downloads/ne_50m_coastline\n"
     ]
    },
    {
     "data": {
      "text/html": [
       "<div>\n",
       "<style scoped>\n",
       "    .dataframe tbody tr th:only-of-type {\n",
       "        vertical-align: middle;\n",
       "    }\n",
       "\n",
       "    .dataframe tbody tr th {\n",
       "        vertical-align: top;\n",
       "    }\n",
       "\n",
       "    .dataframe thead th {\n",
       "        text-align: right;\n",
       "    }\n",
       "</style>\n",
       "<table border=\"1\" class=\"dataframe\">\n",
       "  <thead>\n",
       "    <tr style=\"text-align: right;\">\n",
       "      <th></th>\n",
       "      <th>scalerank</th>\n",
       "      <th>featurecla</th>\n",
       "      <th>min_zoom</th>\n",
       "      <th>geometry</th>\n",
       "    </tr>\n",
       "  </thead>\n",
       "  <tbody>\n",
       "    <tr>\n",
       "      <th>0</th>\n",
       "      <td>0</td>\n",
       "      <td>Coastline</td>\n",
       "      <td>1.5</td>\n",
       "      <td>LINESTRING (180.00000 -16.15293, 179.84814 -16...</td>\n",
       "    </tr>\n",
       "    <tr>\n",
       "      <th>1</th>\n",
       "      <td>0</td>\n",
       "      <td>Coastline</td>\n",
       "      <td>4.0</td>\n",
       "      <td>LINESTRING (177.25752 -17.05420, 177.28740 -17...</td>\n",
       "    </tr>\n",
       "    <tr>\n",
       "      <th>2</th>\n",
       "      <td>0</td>\n",
       "      <td>Coastline</td>\n",
       "      <td>4.0</td>\n",
       "      <td>LINESTRING (127.37266 0.79131, 127.35381 0.847...</td>\n",
       "    </tr>\n",
       "    <tr>\n",
       "      <th>3</th>\n",
       "      <td>0</td>\n",
       "      <td>Coastline</td>\n",
       "      <td>3.0</td>\n",
       "      <td>LINESTRING (-81.32231 24.68506, -81.42007 24.7...</td>\n",
       "    </tr>\n",
       "    <tr>\n",
       "      <th>4</th>\n",
       "      <td>0</td>\n",
       "      <td>Coastline</td>\n",
       "      <td>4.0</td>\n",
       "      <td>LINESTRING (-80.79941 24.84629, -80.83887 24.8...</td>\n",
       "    </tr>\n",
       "  </tbody>\n",
       "</table>\n",
       "</div>"
      ],
      "text/plain": [
       "   scalerank featurecla  min_zoom  \\\n",
       "0          0  Coastline       1.5   \n",
       "1          0  Coastline       4.0   \n",
       "2          0  Coastline       4.0   \n",
       "3          0  Coastline       3.0   \n",
       "4          0  Coastline       4.0   \n",
       "\n",
       "                                            geometry  \n",
       "0  LINESTRING (180.00000 -16.15293, 179.84814 -16...  \n",
       "1  LINESTRING (177.25752 -17.05420, 177.28740 -17...  \n",
       "2  LINESTRING (127.37266 0.79131, 127.35381 0.847...  \n",
       "3  LINESTRING (-81.32231 24.68506, -81.42007 24.7...  \n",
       "4  LINESTRING (-80.79941 24.84629, -80.83887 24.8...  "
      ]
     },
     "execution_count": 4,
     "metadata": {},
     "output_type": "execute_result"
    }
   ],
   "source": [
    "#set URL for the dataset\n",
    "coastlines_url = \"https://naturalearth.s3.amazonaws.com/50m_physical/ne_50m_coastline.zip\"\n",
    "\n",
    "#download the URL into your earth-analytics folder\n",
    "et.data.get_data(url=coastlines_url)\n",
    "\n",
    "#name the filepath relative to your working directory: note this is operating system agnostic\n",
    "coastlines_path = os.path.join(\"data\", \"earthpy-downloads\",\n",
    "                               \"ne_50m_coastline\",\n",
    "                               \"ne_50m_coastline.shp\")\n",
    "\n",
    "#use geopandas as gpd to \"read_file\"\n",
    "coastlines = gpd.read_file(coastlines_path)\n",
    "\n",
    "#prints \"head\" just like pandas!\n",
    "coastlines.head()"
   ]
  },
  {
   "cell_type": "markdown",
   "metadata": {},
   "source": [
    "### See? GeoPandas Creates GeoDataFrames Which Have the Same Structure As Pandas DataFrames\n",
    "The structure of a Geopandas GeoDataFrame is very similar to a Pandas dataframe.\n",
    "\n",
    "### A few differences include:\n",
    "The GeoDataFrame contains a geometry column which stores spatial information. The geometry column in your GeoDataFrame stores the boundary information (the lines that make up each shape in your data). This allows you to plot points, lines or polygons.\n",
    "\n",
    "The GeoDataFrame stores spatial attributes such as coordinate reference systems and spatial extents.\n",
    "\n",
    "Similar to Pandas, you can plot the data using .plot()"
   ]
  },
  {
   "cell_type": "code",
   "execution_count": 5,
   "metadata": {},
   "outputs": [
    {
     "data": {
      "image/png": "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\n",
      "text/plain": [
       "<Figure size 864x432 with 1 Axes>"
      ]
     },
     "metadata": {
      "needs_background": "light"
     },
     "output_type": "display_data"
    }
   ],
   "source": [
    "# Plot the data\n",
    "f, ax1 = plt.subplots(figsize=(12, 6))\n",
    "coastlines.plot(ax=ax1)\n",
    "\n",
    "# Add a title to your plot\n",
    "ax1.set(title=\"Global Coastline Boundaries\")\n",
    "plt.show()"
   ]
  },
  {
   "cell_type": "markdown",
   "metadata": {},
   "source": [
    "### Check the Spatial Vector Data Type\n",
    "You can look at the data to figure out what type of data are stored in the shapefile (points, line or polygons). However, you can also get that information by calling .geom_type"
   ]
  },
  {
   "cell_type": "code",
   "execution_count": 6,
   "metadata": {},
   "outputs": [
    {
     "data": {
      "text/plain": [
       "0       LineString\n",
       "1       LineString\n",
       "2       LineString\n",
       "3       LineString\n",
       "4       LineString\n",
       "           ...    \n",
       "1423    LineString\n",
       "1424    LineString\n",
       "1425    LineString\n",
       "1426    LineString\n",
       "1427    LineString\n",
       "Length: 1428, dtype: object"
      ]
     },
     "execution_count": 6,
     "metadata": {},
     "output_type": "execute_result"
    }
   ],
   "source": [
    "# Is the geometry type point, line or polygon?\n",
    "coastlines.geom_type"
   ]
  },
  {
   "cell_type": "markdown",
   "metadata": {},
   "source": [
    "Also similar to Pandas, you can view descriptive information about the GeoDataFrame using .info(). This includes the number of columns, rows and the header name and type of each column.¶"
   ]
  },
  {
   "cell_type": "code",
   "execution_count": 7,
   "metadata": {},
   "outputs": [
    {
     "name": "stdout",
     "output_type": "stream",
     "text": [
      "<class 'geopandas.geodataframe.GeoDataFrame'>\n",
      "RangeIndex: 1428 entries, 0 to 1427\n",
      "Data columns (total 4 columns):\n",
      " #   Column      Non-Null Count  Dtype   \n",
      "---  ------      --------------  -----   \n",
      " 0   scalerank   1428 non-null   int64   \n",
      " 1   featurecla  1428 non-null   object  \n",
      " 2   min_zoom    1428 non-null   float64 \n",
      " 3   geometry    1428 non-null   geometry\n",
      "dtypes: float64(1), geometry(1), int64(1), object(1)\n",
      "memory usage: 44.8+ KB\n"
     ]
    }
   ],
   "source": [
    "coastlines.info()"
   ]
  },
  {
   "cell_type": "markdown",
   "metadata": {},
   "source": [
    "### Open Vector Point Data\n",
    "Next, you will open up another shapefile using Geopandas."
   ]
  },
  {
   "cell_type": "code",
   "execution_count": 8,
   "metadata": {},
   "outputs": [
    {
     "name": "stdout",
     "output_type": "stream",
     "text": [
      "Downloading from https://naturalearth.s3.amazonaws.com/50m_cultural/ne_50m_populated_places_simple.zip\n",
      "Extracted output to /Users/tylerlogie/earth-analytics/data/earthpy-downloads/ne_50m_populated_places_simple\n"
     ]
    }
   ],
   "source": [
    "# Open a second layer\n",
    "et.data.get_data(\n",
    "    url='https://naturalearth.s3.amazonaws.com/50m_cultural/ne_50m_populated_places_simple.zip')\n",
    "\n",
    "# Create a path to the populated places shapefile\n",
    "populated_places_path = os.path.join(\"data\", \"earthpy-downloads\",\n",
    "                                     \"ne_50m_populated_places_simple\",\n",
    "                                     \"ne_50m_populated_places_simple.shp\")\n",
    "\n",
    "#read in a new geopandas data frame called \"cities\"\n",
    "cities = gpd.read_file(populated_places_path)"
   ]
  },
  {
   "cell_type": "markdown",
   "metadata": {},
   "source": [
    "### TASK 1: Is Cities a point, line, or polygon file? Type a command to find out and interpret the answer."
   ]
  },
  {
   "cell_type": "code",
   "execution_count": 9,
   "metadata": {},
   "outputs": [
    {
     "data": {
      "text/plain": [
       "0       Point\n",
       "1       Point\n",
       "2       Point\n",
       "3       Point\n",
       "4       Point\n",
       "        ...  \n",
       "1244    Point\n",
       "1245    Point\n",
       "1246    Point\n",
       "1247    Point\n",
       "1248    Point\n",
       "Length: 1249, dtype: object"
      ]
     },
     "execution_count": 9,
     "metadata": {},
     "output_type": "execute_result"
    }
   ],
   "source": [
    "# Task 1 answer here\n",
    "cities.geom_type"
   ]
  },
  {
   "cell_type": "markdown",
   "metadata": {},
   "source": [
    "The attributes for a shapefile imported into a GeoDataFrame can be viewed in the GeoDataFrame itself."
   ]
  },
  {
   "cell_type": "code",
   "execution_count": 10,
   "metadata": {},
   "outputs": [
    {
     "data": {
      "text/html": [
       "<div>\n",
       "<style scoped>\n",
       "    .dataframe tbody tr th:only-of-type {\n",
       "        vertical-align: middle;\n",
       "    }\n",
       "\n",
       "    .dataframe tbody tr th {\n",
       "        vertical-align: top;\n",
       "    }\n",
       "\n",
       "    .dataframe thead th {\n",
       "        text-align: right;\n",
       "    }\n",
       "</style>\n",
       "<table border=\"1\" class=\"dataframe\">\n",
       "  <thead>\n",
       "    <tr style=\"text-align: right;\">\n",
       "      <th></th>\n",
       "      <th>scalerank</th>\n",
       "      <th>natscale</th>\n",
       "      <th>labelrank</th>\n",
       "      <th>featurecla</th>\n",
       "      <th>name</th>\n",
       "      <th>namepar</th>\n",
       "      <th>namealt</th>\n",
       "      <th>diffascii</th>\n",
       "      <th>nameascii</th>\n",
       "      <th>adm0cap</th>\n",
       "      <th>...</th>\n",
       "      <th>rank_max</th>\n",
       "      <th>rank_min</th>\n",
       "      <th>geonameid</th>\n",
       "      <th>meganame</th>\n",
       "      <th>ls_name</th>\n",
       "      <th>ls_match</th>\n",
       "      <th>checkme</th>\n",
       "      <th>min_zoom</th>\n",
       "      <th>ne_id</th>\n",
       "      <th>geometry</th>\n",
       "    </tr>\n",
       "  </thead>\n",
       "  <tbody>\n",
       "    <tr>\n",
       "      <th>0</th>\n",
       "      <td>10</td>\n",
       "      <td>1</td>\n",
       "      <td>5</td>\n",
       "      <td>Admin-1 region capital</td>\n",
       "      <td>Bombo</td>\n",
       "      <td>None</td>\n",
       "      <td>None</td>\n",
       "      <td>0</td>\n",
       "      <td>Bombo</td>\n",
       "      <td>0.0</td>\n",
       "      <td>...</td>\n",
       "      <td>8</td>\n",
       "      <td>7</td>\n",
       "      <td>0.0</td>\n",
       "      <td>None</td>\n",
       "      <td>None</td>\n",
       "      <td>0</td>\n",
       "      <td>0</td>\n",
       "      <td>7.0</td>\n",
       "      <td>1159113923</td>\n",
       "      <td>POINT (32.53330 0.58330)</td>\n",
       "    </tr>\n",
       "    <tr>\n",
       "      <th>1</th>\n",
       "      <td>10</td>\n",
       "      <td>1</td>\n",
       "      <td>5</td>\n",
       "      <td>Admin-1 region capital</td>\n",
       "      <td>Fort Portal</td>\n",
       "      <td>None</td>\n",
       "      <td>None</td>\n",
       "      <td>0</td>\n",
       "      <td>Fort Portal</td>\n",
       "      <td>0.0</td>\n",
       "      <td>...</td>\n",
       "      <td>7</td>\n",
       "      <td>7</td>\n",
       "      <td>233476.0</td>\n",
       "      <td>None</td>\n",
       "      <td>None</td>\n",
       "      <td>0</td>\n",
       "      <td>0</td>\n",
       "      <td>7.0</td>\n",
       "      <td>1159113959</td>\n",
       "      <td>POINT (30.27500 0.67100)</td>\n",
       "    </tr>\n",
       "    <tr>\n",
       "      <th>2</th>\n",
       "      <td>10</td>\n",
       "      <td>1</td>\n",
       "      <td>3</td>\n",
       "      <td>Admin-1 region capital</td>\n",
       "      <td>Potenza</td>\n",
       "      <td>None</td>\n",
       "      <td>None</td>\n",
       "      <td>0</td>\n",
       "      <td>Potenza</td>\n",
       "      <td>0.0</td>\n",
       "      <td>...</td>\n",
       "      <td>8</td>\n",
       "      <td>8</td>\n",
       "      <td>3170027.0</td>\n",
       "      <td>None</td>\n",
       "      <td>None</td>\n",
       "      <td>0</td>\n",
       "      <td>0</td>\n",
       "      <td>7.0</td>\n",
       "      <td>1159117259</td>\n",
       "      <td>POINT (15.79900 40.64200)</td>\n",
       "    </tr>\n",
       "    <tr>\n",
       "      <th>3</th>\n",
       "      <td>10</td>\n",
       "      <td>1</td>\n",
       "      <td>3</td>\n",
       "      <td>Admin-1 region capital</td>\n",
       "      <td>Campobasso</td>\n",
       "      <td>None</td>\n",
       "      <td>None</td>\n",
       "      <td>0</td>\n",
       "      <td>Campobasso</td>\n",
       "      <td>0.0</td>\n",
       "      <td>...</td>\n",
       "      <td>8</td>\n",
       "      <td>8</td>\n",
       "      <td>3180991.0</td>\n",
       "      <td>None</td>\n",
       "      <td>None</td>\n",
       "      <td>0</td>\n",
       "      <td>0</td>\n",
       "      <td>7.0</td>\n",
       "      <td>1159117283</td>\n",
       "      <td>POINT (14.65600 41.56300)</td>\n",
       "    </tr>\n",
       "    <tr>\n",
       "      <th>4</th>\n",
       "      <td>10</td>\n",
       "      <td>1</td>\n",
       "      <td>3</td>\n",
       "      <td>Admin-1 region capital</td>\n",
       "      <td>Aosta</td>\n",
       "      <td>None</td>\n",
       "      <td>None</td>\n",
       "      <td>0</td>\n",
       "      <td>Aosta</td>\n",
       "      <td>0.0</td>\n",
       "      <td>...</td>\n",
       "      <td>7</td>\n",
       "      <td>7</td>\n",
       "      <td>3182997.0</td>\n",
       "      <td>None</td>\n",
       "      <td>None</td>\n",
       "      <td>0</td>\n",
       "      <td>0</td>\n",
       "      <td>7.0</td>\n",
       "      <td>1159117361</td>\n",
       "      <td>POINT (7.31500 45.73700)</td>\n",
       "    </tr>\n",
       "    <tr>\n",
       "      <th>5</th>\n",
       "      <td>10</td>\n",
       "      <td>1</td>\n",
       "      <td>8</td>\n",
       "      <td>Admin-0 region capital</td>\n",
       "      <td>Mariehamn</td>\n",
       "      <td>None</td>\n",
       "      <td>None</td>\n",
       "      <td>0</td>\n",
       "      <td>Mariehamn</td>\n",
       "      <td>0.0</td>\n",
       "      <td>...</td>\n",
       "      <td>6</td>\n",
       "      <td>6</td>\n",
       "      <td>3041732.0</td>\n",
       "      <td>None</td>\n",
       "      <td>None</td>\n",
       "      <td>0</td>\n",
       "      <td>0</td>\n",
       "      <td>7.0</td>\n",
       "      <td>1159119239</td>\n",
       "      <td>POINT (19.94900 60.09700)</td>\n",
       "    </tr>\n",
       "    <tr>\n",
       "      <th>6</th>\n",
       "      <td>10</td>\n",
       "      <td>1</td>\n",
       "      <td>0</td>\n",
       "      <td>Admin-0 region capital</td>\n",
       "      <td>Ramallah</td>\n",
       "      <td>None</td>\n",
       "      <td>None</td>\n",
       "      <td>0</td>\n",
       "      <td>Ramallah</td>\n",
       "      <td>0.0</td>\n",
       "      <td>...</td>\n",
       "      <td>7</td>\n",
       "      <td>7</td>\n",
       "      <td>282239.0</td>\n",
       "      <td>None</td>\n",
       "      <td>None</td>\n",
       "      <td>0</td>\n",
       "      <td>0</td>\n",
       "      <td>9.0</td>\n",
       "      <td>1159121947</td>\n",
       "      <td>POINT (35.20621 31.90294)</td>\n",
       "    </tr>\n",
       "    <tr>\n",
       "      <th>7</th>\n",
       "      <td>8</td>\n",
       "      <td>10</td>\n",
       "      <td>3</td>\n",
       "      <td>Admin-0 capital</td>\n",
       "      <td>Vatican City</td>\n",
       "      <td>None</td>\n",
       "      <td>None</td>\n",
       "      <td>0</td>\n",
       "      <td>Vatican City</td>\n",
       "      <td>1.0</td>\n",
       "      <td>...</td>\n",
       "      <td>2</td>\n",
       "      <td>2</td>\n",
       "      <td>6691831.0</td>\n",
       "      <td>None</td>\n",
       "      <td>Vatican City</td>\n",
       "      <td>1</td>\n",
       "      <td>0</td>\n",
       "      <td>7.0</td>\n",
       "      <td>1159127243</td>\n",
       "      <td>POINT (12.45339 41.90328)</td>\n",
       "    </tr>\n",
       "    <tr>\n",
       "      <th>8</th>\n",
       "      <td>8</td>\n",
       "      <td>10</td>\n",
       "      <td>3</td>\n",
       "      <td>Admin-1 region capital</td>\n",
       "      <td>Poitier</td>\n",
       "      <td>None</td>\n",
       "      <td>Poitiers</td>\n",
       "      <td>0</td>\n",
       "      <td>Poitier</td>\n",
       "      <td>0.0</td>\n",
       "      <td>...</td>\n",
       "      <td>8</td>\n",
       "      <td>8</td>\n",
       "      <td>2986495.0</td>\n",
       "      <td>None</td>\n",
       "      <td>Poitier</td>\n",
       "      <td>1</td>\n",
       "      <td>0</td>\n",
       "      <td>6.7</td>\n",
       "      <td>1159130485</td>\n",
       "      <td>POINT (0.33328 46.58329)</td>\n",
       "    </tr>\n",
       "    <tr>\n",
       "      <th>9</th>\n",
       "      <td>8</td>\n",
       "      <td>10</td>\n",
       "      <td>3</td>\n",
       "      <td>Admin-1 region capital</td>\n",
       "      <td>Clermont-Ferrand</td>\n",
       "      <td>None</td>\n",
       "      <td>None</td>\n",
       "      <td>0</td>\n",
       "      <td>Clermont-Ferrand</td>\n",
       "      <td>0.0</td>\n",
       "      <td>...</td>\n",
       "      <td>10</td>\n",
       "      <td>9</td>\n",
       "      <td>3024635.0</td>\n",
       "      <td>None</td>\n",
       "      <td>Clermont-Ferrand</td>\n",
       "      <td>1</td>\n",
       "      <td>0</td>\n",
       "      <td>6.0</td>\n",
       "      <td>1159130517</td>\n",
       "      <td>POINT (3.08001 45.77998)</td>\n",
       "    </tr>\n",
       "  </tbody>\n",
       "</table>\n",
       "<p>10 rows × 39 columns</p>\n",
       "</div>"
      ],
      "text/plain": [
       "   scalerank  natscale  labelrank              featurecla              name  \\\n",
       "0         10         1          5  Admin-1 region capital             Bombo   \n",
       "1         10         1          5  Admin-1 region capital       Fort Portal   \n",
       "2         10         1          3  Admin-1 region capital           Potenza   \n",
       "3         10         1          3  Admin-1 region capital        Campobasso   \n",
       "4         10         1          3  Admin-1 region capital             Aosta   \n",
       "5         10         1          8  Admin-0 region capital         Mariehamn   \n",
       "6         10         1          0  Admin-0 region capital          Ramallah   \n",
       "7          8        10          3         Admin-0 capital      Vatican City   \n",
       "8          8        10          3  Admin-1 region capital           Poitier   \n",
       "9          8        10          3  Admin-1 region capital  Clermont-Ferrand   \n",
       "\n",
       "  namepar   namealt  diffascii         nameascii  adm0cap  ...  rank_max  \\\n",
       "0    None      None          0             Bombo      0.0  ...         8   \n",
       "1    None      None          0       Fort Portal      0.0  ...         7   \n",
       "2    None      None          0           Potenza      0.0  ...         8   \n",
       "3    None      None          0        Campobasso      0.0  ...         8   \n",
       "4    None      None          0             Aosta      0.0  ...         7   \n",
       "5    None      None          0         Mariehamn      0.0  ...         6   \n",
       "6    None      None          0          Ramallah      0.0  ...         7   \n",
       "7    None      None          0      Vatican City      1.0  ...         2   \n",
       "8    None  Poitiers          0           Poitier      0.0  ...         8   \n",
       "9    None      None          0  Clermont-Ferrand      0.0  ...        10   \n",
       "\n",
       "  rank_min  geonameid  meganame           ls_name ls_match checkme min_zoom  \\\n",
       "0        7        0.0      None              None        0       0      7.0   \n",
       "1        7   233476.0      None              None        0       0      7.0   \n",
       "2        8  3170027.0      None              None        0       0      7.0   \n",
       "3        8  3180991.0      None              None        0       0      7.0   \n",
       "4        7  3182997.0      None              None        0       0      7.0   \n",
       "5        6  3041732.0      None              None        0       0      7.0   \n",
       "6        7   282239.0      None              None        0       0      9.0   \n",
       "7        2  6691831.0      None      Vatican City        1       0      7.0   \n",
       "8        8  2986495.0      None           Poitier        1       0      6.7   \n",
       "9        9  3024635.0      None  Clermont-Ferrand        1       0      6.0   \n",
       "\n",
       "        ne_id                   geometry  \n",
       "0  1159113923   POINT (32.53330 0.58330)  \n",
       "1  1159113959   POINT (30.27500 0.67100)  \n",
       "2  1159117259  POINT (15.79900 40.64200)  \n",
       "3  1159117283  POINT (14.65600 41.56300)  \n",
       "4  1159117361   POINT (7.31500 45.73700)  \n",
       "5  1159119239  POINT (19.94900 60.09700)  \n",
       "6  1159121947  POINT (35.20621 31.90294)  \n",
       "7  1159127243  POINT (12.45339 41.90328)  \n",
       "8  1159130485   POINT (0.33328 46.58329)  \n",
       "9  1159130517   POINT (3.08001 45.77998)  \n",
       "\n",
       "[10 rows x 39 columns]"
      ]
     },
     "execution_count": 10,
     "metadata": {},
     "output_type": "execute_result"
    }
   ],
   "source": [
    "# View first 5 rows of GeoDataFrame\n",
    "cities.head()\n",
    "\n",
    "\n",
    "# Experiment! How would you view the first 10 rows of a GeoDataFrame?\n",
    "cities.head(10)"
   ]
  },
  {
   "cell_type": "markdown",
   "metadata": {},
   "source": [
    "Just like with Pandas DataFrames, standard arguments can be used to calculate summary statistics on your GeoPandas object:"
   ]
  },
  {
   "cell_type": "code",
   "execution_count": 11,
   "metadata": {},
   "outputs": [
    {
     "name": "stdout",
     "output_type": "stream",
     "text": [
      "0          75000\n",
      "1          42670\n",
      "2          69060\n",
      "3          50762\n",
      "4          34062\n",
      "          ...   \n",
      "1244    11748000\n",
      "1245    18845000\n",
      "1246     4630000\n",
      "1247     5183700\n",
      "1248     7206000\n",
      "Name: pop_max, Length: 1249, dtype: int64\n",
      "The largest city has 35676000 people!\n"
     ]
    }
   ],
   "source": [
    "#Let's see what our most populous city is\n",
    "print(cities.pop_max)\n",
    "\n",
    "print(\"The largest city has \" + \n",
    "      str(cities.pop_max.max()) \n",
    "      + \" people!\")"
   ]
  },
  {
   "cell_type": "markdown",
   "metadata": {},
   "source": [
    "### Creating Maps Using Multiple Shapefiles\n",
    "You can create maps using multiple shapefiles with Geopandas in a similar way that you may do so using a graphical user interface (GUI) tool like ArcGIS or QGIS (open source alternative to ArcGIS). To do this you will need to open a second spatial file. Below you will use the Natural Earth populated places shapefile to add additional layers to your map.\n",
    "\n",
    "To plot two datasets together, you will first create a Matplotlib figure object. Notice in the example below that you define the figure ax1 in the first line. You then tell GeoPandas to plot the data on that particular figure using the parameter ax=\n",
    "\n",
    "The code looks like this:"
   ]
  },
  {
   "cell_type": "code",
   "execution_count": null,
   "metadata": {},
   "outputs": [],
   "source": [
    "#Experiment! \n",
    "#What happens if you change FigSize numbers? \n",
    "#What happens if you \"comment out\" (put a # in front of) plt.show()? \n",
    "#What happens if you change the color?\n",
    "\n",
    "f, ax1 = plt.subplots(figsize=(10, 6))\n",
    "coastlines.plot(ax=ax1,\n",
    "               color = \"black\")\n",
    "plt.show()"
   ]
  },
  {
   "cell_type": "markdown",
   "metadata": {},
   "source": [
    "To add another layer to your map, you can add a second .plot() call and specify the ax= to be ax1 again. This tells Python to layer the two datasets in the same figure."
   ]
  },
  {
   "cell_type": "code",
   "execution_count": null,
   "metadata": {},
   "outputs": [],
   "source": [
    "# Create a map or plot with two data layers\n",
    "\n",
    "#Experiment! What happens if you remove ax=ax1 from coastlines.plot() and cities.plot()?\n",
    "\n",
    "f, ax1 = plt.subplots(figsize=(10, 6))\n",
    "coastlines.plot(ax=ax1,\n",
    "                color=\"black\")\n",
    "cities.plot(ax=ax1)\n",
    "\n",
    "# Add a title\n",
    "ax1.set(title=\"Map of Cities and Global Lines\")\n",
    "plt.show()"
   ]
  },
  {
   "cell_type": "markdown",
   "metadata": {},
   "source": [
    "Learn more about custom plotting in Python:\n",
    "\n",
    "https://www.earthdatascience.org/courses/scientists-guide-to-plotting-data-in-python/plot-spatial-data/customize-vector-plots/python-customize-map-legends-geopandas/\n",
    "\n",
    "https://geopandas.org/gallery/plotting_with_geoplot.html"
   ]
  },
  {
   "cell_type": "markdown",
   "metadata": {},
   "source": [
    "### TASK 2\n",
    "Using the resources above, create a map that contains:\n",
    "1. Coastal lines (black)\n",
    "2. Cities (points), with a color scale for pop_max\n",
    "3. A legend"
   ]
  },
  {
   "cell_type": "code",
   "execution_count": null,
   "metadata": {},
   "outputs": [],
   "source": [
    "# Format and plot your results from task 2\n",
    "f, ax1 = plt.subplots(figsize=(10, 6))\n",
    "coastlines.plot(ax=ax1,\n",
    "                #Modify arguments here!\n",
    "               )\n",
    "cities.plot(ax=ax1,\n",
    "            #Modify arguments here!\n",
    "           )\n",
    "           \n",
    "\n",
    "# Add a title\n",
    "ax1.set(title=\"Map of Cities Populations and Global Lines\")\n",
    "plt.show()\n"
   ]
  },
  {
   "cell_type": "markdown",
   "metadata": {},
   "source": [
    "### Geoprocessing Vector Data Geoprocessing in Python: Clip Data\n",
    "Sometimes you have spatial data for a larger area than you need to process. For example you may be working on a project for your state or country. But perhaps you have data for the entire globe.\n",
    "\n",
    "You can clip the data spatially to another boundary to make it smaller. Once the data are clipped, your processing operations will be faster. It will also make creating maps of your study area easier and cleaner.\n",
    "\n",
    "In this workflow, you'll subset your cities data to only look at counties in the United States. First, we'll import a dataset of global political boundaries."
   ]
  },
  {
   "cell_type": "code",
   "execution_count": null,
   "metadata": {},
   "outputs": [],
   "source": [
    "country_data_url = \"https://naturalearth.s3.amazonaws.com/50m_cultural/ne_50m_admin_0_countries.zip\"\n",
    "et.data.get_data(url=country_data_url)\n",
    "\n",
    "# Create a path to the countries shapefile\n",
    "countries_path = os.path.join(\"data\", \"earthpy-downloads\",\n",
    "                              \"ne_50m_admin_0_countries\", \n",
    "                              \"ne_50m_admin_0_countries.shp\")\n",
    "\n",
    "# Read in the countries shapefile as GeoPandas dataframe\n",
    "countries = gpd.read_file(countries_path)\n",
    "\n",
    "# View attribute table:\n",
    "countries.head()"
   ]
  },
  {
   "cell_type": "markdown",
   "metadata": {},
   "source": [
    "### Next, we'll use built-in pandas funcitonality to subset the shapefile to just the US boundary"
   ]
  },
  {
   "cell_type": "code",
   "execution_count": null,
   "metadata": {},
   "outputs": [],
   "source": [
    "# Subset the countries data to just a single country\n",
    "united_states_boundary = countries.loc[countries['SOVEREIGNT']\n",
    "                                       == 'United States of America']\n",
    "\n",
    "# Notice in the plot below, that only the boundary for the USA is in the new variable\n",
    "f, ax = plt.subplots(figsize=(10, 6))\n",
    "united_states_boundary.plot(ax=ax)\n",
    "plt.show()"
   ]
  },
  {
   "cell_type": "markdown",
   "metadata": {},
   "source": [
    "### Now, we'll subset the cities layer to include only records which overlap in space with the united_states_boundary layer (aka are in the United States)"
   ]
  },
  {
   "cell_type": "code",
   "execution_count": null,
   "metadata": {},
   "outputs": [],
   "source": [
    "# Clip the cities data to the USA boundary\n",
    "# Note -- this operation may take some time to run - be patient\n",
    "cities_in_usa = gpd.clip(cities, united_states_boundary)\n",
    "\n",
    "# Plot your final clipped data\n",
    "f, ax = plt.subplots()\n",
    "cities_in_usa.plot(ax=ax)\n",
    "ax.set(title=\"Cities clipped to the USA Boundary\")\n",
    "plt.show()"
   ]
  },
  {
   "cell_type": "markdown",
   "metadata": {},
   "source": [
    "### TASK 3: What is the largest city in the United States? What is the population of that city?\n",
    "*Hint: check the colutions to the extra credit from Python101"
   ]
  },
  {
   "cell_type": "code",
   "execution_count": null,
   "metadata": {},
   "outputs": [],
   "source": [
    "#Task 3 code here"
   ]
  }
 ],
 "metadata": {
  "kernelspec": {
   "display_name": "geostats_env",
   "language": "python",
   "name": "geostats_env"
  },
  "language_info": {
   "codemirror_mode": {
    "name": "ipython",
    "version": 3
   },
   "file_extension": ".py",
   "mimetype": "text/x-python",
   "name": "python",
   "nbconvert_exporter": "python",
   "pygments_lexer": "ipython3",
   "version": "3.8.2"
  }
 },
=======
 "cells": [],
 "metadata": {},
>>>>>>> upstream/main
 "nbformat": 4,
 "nbformat_minor": 4
}
